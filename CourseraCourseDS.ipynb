{
  "metadata": {
    "kernelspec": {
      "name": "python",
      "display_name": "Python (Pyodide)",
      "language": "python"
    },
    "language_info": {
      "codemirror_mode": {
        "name": "python",
        "version": 3
      },
      "file_extension": ".py",
      "mimetype": "text/x-python",
      "name": "python",
      "nbconvert_exporter": "python",
      "pygments_lexer": "ipython3",
      "version": "3.8"
    }
  },
  "nbformat_minor": 4,
  "nbformat": 4,
  "cells": [
    {
      "cell_type": "markdown",
      "source": "# CourseraCourseDS",
      "metadata": {}
    },
    {
      "cell_type": "markdown",
      "source": "### Introduction\n\nThis was made to pass the test.",
      "metadata": {}
    },
    {
      "cell_type": "markdown",
      "source": "Some data science languages:\nR, python, Matlab, Jula, C++.",
      "metadata": {}
    },
    {
      "cell_type": "markdown",
      "source": "Some data science libraries are:\nPandas, Tensorflow, Keras, Matplotlib, GGPlot, Scipy, Numpy.",
      "metadata": {}
    },
    {
      "cell_type": "markdown",
      "source": "Data science tools:\n\n| Name | Type | Use |\n| --- | --- | --- |\n| Python | Programming language | Various |\n| R | Programming language | Various |\n| Tensorflow | Package | Machine learning|",
      "metadata": {}
    },
    {
      "cell_type": "markdown",
      "source": "Here I'm supposed to introduce arithmetic expression examples. I assume something like this is required:\n\n$$\n  \\int_0^\\infty \\frac{x^3}{e^x-1}\\,dx = \\frac{\\pi^4}{15}\n$$",
      "metadata": {}
    },
    {
      "cell_type": "code",
      "source": "#multiply and add numbers\na = 1+1\nb = 2*3\n",
      "metadata": {
        "trusted": true
      },
      "outputs": [],
      "execution_count": null
    },
    {
      "cell_type": "code",
      "source": "#convert minutes to hours\nc = 180 #minutes\nc_in_hours = floor(c/60) + c/",
      "metadata": {
        "trusted": true
      },
      "outputs": [],
      "execution_count": null
    },
    {
      "cell_type": "code",
      "source": "",
      "metadata": {
        "trusted": true
      },
      "outputs": [],
      "execution_count": null
    },
    {
      "cell_type": "code",
      "source": "",
      "metadata": {
        "trusted": true
      },
      "outputs": [],
      "execution_count": null
    }
  ]
}